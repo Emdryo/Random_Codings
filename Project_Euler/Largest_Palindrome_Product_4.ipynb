{
 "cells": [
  {
   "cell_type": "code",
   "execution_count": 1,
   "metadata": {},
   "outputs": [],
   "source": [
    "import matplotlib.pyplot as plt\n",
    "import numpy as np\n"
   ]
  },
  {
   "cell_type": "code",
   "execution_count": 62,
   "metadata": {},
   "outputs": [
    {
     "name": "stdout",
     "output_type": "stream",
     "text": [
      "906609\n"
     ]
    }
   ],
   "source": [
    "x1 = np.arange(100,1000) # from 100 to 999\n",
    "x2 = np.arange(100,1000) # from 100 to 999\n",
    "max_palindrome = 0\n",
    "for i in x1: # first number\n",
    "    for j in x2: # second number\n",
    "        val = str(i*j)  #converts to string so we can check the value\n",
    "        if val == val[::-1]: #reverses it, easy to check\n",
    "            if i*j > max_palindrome: # if the value is larger than our previous largest palindrome\n",
    "                max_palindrome = i*j # we update it\n",
    "print(max_palindrome)"
   ]
  },
  {
   "cell_type": "code",
   "execution_count": null,
   "metadata": {},
   "outputs": [],
   "source": []
  }
 ],
 "metadata": {
  "kernelspec": {
   "display_name": "Python 3",
   "language": "python",
   "name": "python3"
  },
  "language_info": {
   "codemirror_mode": {
    "name": "ipython",
    "version": 3
   },
   "file_extension": ".py",
   "mimetype": "text/x-python",
   "name": "python",
   "nbconvert_exporter": "python",
   "pygments_lexer": "ipython3",
   "version": "3.11.1"
  }
 },
 "nbformat": 4,
 "nbformat_minor": 2
}
