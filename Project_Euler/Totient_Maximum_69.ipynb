{
 "cells": [
  {
   "cell_type": "code",
   "execution_count": 1,
   "metadata": {},
   "outputs": [],
   "source": [
    "import numpy as np\n",
    "import matplotlib.pyplot as plt"
   ]
  },
  {
   "cell_type": "code",
   "execution_count": 161,
   "metadata": {},
   "outputs": [
    {
     "name": "stdout",
     "output_type": "stream",
     "text": [
      "Max n/phi = 510510, 5.539388\n"
     ]
    }
   ],
   "source": [
    "def euler_totient(n):\n",
    "    result = n #value we use\n",
    "    p = 2 # smallest prime number\n",
    "    while p * p <= n: # less than the square root of n\n",
    "        if n % p == 0: #Removes all the multiples of p, ends up giving a prime number which means it stops\n",
    "            while n % p == 0: #while p is a factor of n\n",
    "                n //= p #we remove all factors of p from n\n",
    "            result -= result // p #we use that phi(n) = n*(1-1/p) for prime numbers so we just remove the last part\n",
    "        p += 1 # add 1 to p so we increase\n",
    "    if n > 1: # if n is larger than 1 it must now be prime\n",
    "        result -= result // n # so we remove it\n",
    "    return result\n",
    "\n",
    "nrelmax = 0\n",
    "n_num = 0\n",
    "\n",
    "for i in range(2, 1000*1000):\n",
    "    phi_i = euler_totient(i)\n",
    "    nrel = i / phi_i\n",
    "    \n",
    "    if nrel > nrelmax:\n",
    "        nrelmax = nrel\n",
    "        n_num = i\n",
    "\n",
    "print(f'Max n/phi = {n_num}, {nrelmax:.6f}')\n"
   ]
  }
 ],
 "metadata": {
  "kernelspec": {
   "display_name": "Python 3",
   "language": "python",
   "name": "python3"
  },
  "language_info": {
   "codemirror_mode": {
    "name": "ipython",
    "version": 3
   },
   "file_extension": ".py",
   "mimetype": "text/x-python",
   "name": "python",
   "nbconvert_exporter": "python",
   "pygments_lexer": "ipython3",
   "version": "3.11.1"
  }
 },
 "nbformat": 4,
 "nbformat_minor": 2
}
