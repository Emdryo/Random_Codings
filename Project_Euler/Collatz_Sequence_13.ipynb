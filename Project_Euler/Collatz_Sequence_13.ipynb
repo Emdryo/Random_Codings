{
 "cells": [
  {
   "cell_type": "code",
   "execution_count": 1,
   "metadata": {},
   "outputs": [],
   "source": [
    "import matplotlib.pyplot as plt\n",
    "import numpy as np"
   ]
  },
  {
   "cell_type": "code",
   "execution_count": null,
   "metadata": {},
   "outputs": [
    {
     "name": "stdout",
     "output_type": "stream",
     "text": [
      "[     2      3      4 ... 999997 999998 999999]\n",
      "Longest sequence is 524\n",
      "Number with longest sequence is 837799\n"
     ]
    }
   ],
   "source": [
    "numbers = np.arange(2,1000001)\n",
    "sequence_length = np.zeros_like(numbers)\n",
    "for j,n in enumerate(numbers):\n",
    "    while n != 1:\n",
    "        if n % 2 == 0:\n",
    "            n = n/2\n",
    "            sequence_length[j] += 1\n",
    "        else: \n",
    "            n = 3*n + 1\n",
    "            sequence_length[j] += 1\n",
    "print(f'Longest sequence is {np.max(sequence_length)}')\n",
    "print(f'Number with longest sequence is {numbers[np.argmax(sequence_length)]}')"
   ]
  }
 ],
 "metadata": {
  "kernelspec": {
   "display_name": "Python 3",
   "language": "python",
   "name": "python3"
  },
  "language_info": {
   "codemirror_mode": {
    "name": "ipython",
    "version": 3
   },
   "file_extension": ".py",
   "mimetype": "text/x-python",
   "name": "python",
   "nbconvert_exporter": "python",
   "pygments_lexer": "ipython3",
   "version": "3.11.1"
  }
 },
 "nbformat": 4,
 "nbformat_minor": 2
}
