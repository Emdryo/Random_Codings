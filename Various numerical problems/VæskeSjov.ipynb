{
 "cells": [
  {
   "cell_type": "code",
   "execution_count": 1,
   "metadata": {},
   "outputs": [],
   "source": [
    "import numpy as np\n",
    "import matplotlib.pyplot as plt"
   ]
  },
  {
   "cell_type": "code",
   "execution_count": 2,
   "metadata": {},
   "outputs": [
    {
     "name": "stdout",
     "output_type": "stream",
     "text": [
      "140.1604880194686\n",
      "(-395.64525039268017, 330.1017025811684)\n"
     ]
    },
    {
     "data": {
      "image/png": "[encoded data removed]",
      "text/plain": [
       "<Figure size 640x480 with 1 Axes>"
      ]
     },
     "metadata": {},
     "output_type": "display_data"
    }
   ],
   "source": [
    "r = np.random\n",
    "#r.seed(0)\n",
    "N_amount = 2\n",
    "def attraction(x1,x2,y1,y2,attractpower = 3.5):\n",
    "    dx = x1-x2\n",
    "    dy = y1-y2\n",
    "    r = (dx**2+dy**2)**(0.5)\n",
    "    theta = np.arctan2(dy, dx)\n",
    "    print(np.degrees(theta)) \n",
    "    if np.isclose(r,0, atol=1e-3):\n",
    "        return -np.cos(theta)/r**2,-np.sin(theta)/r**2, \n",
    "    else:\n",
    "        return np.cos(theta)/r**attractpower,np.sin(theta)/r**attractpower,\n",
    "\n",
    "plt.xlim(-1.2,1.2)\n",
    "plt.ylim(-1,1)\n",
    "possible_numbers = [[ r.uniform(-1,1,2) for _ in range(N_amount)] for _ in range(1)][0]\n",
    "x,y = [],[]\n",
    "for i in possible_numbers:\n",
    "    x.append(i[0])\n",
    "    y.append(i[1])\n",
    "    plt.plot(x[-1],y[-1],'.')\n",
    "\n",
    "position_matrix=np.copy((x,y))\n",
    "postest1 = [1,-0.002]\n",
    "postest2 = [1,0.002]\n",
    "print(attraction(*x,*y))\n"
   ]
  },
  {
   "cell_type": "code",
   "execution_count": null,
   "metadata": {},
   "outputs": [
    {
     "name": "stdout",
     "output_type": "stream",
     "text": [
      "[[ 0.779016    0.90796112]\n",
      " [-0.69608049 -0.80366425]]\n",
      "\n",
      "[[0. 0.]\n",
      " [0. 0.]]\n"
     ]
    }
   ],
   "source": [
    "a=np.copy((x,y))\n",
    "print(a) # Lav det så det er nemmere at regne på?\n",
    "    \n",
    "c = np.zeros((N_amount,N_amount))\n",
    "# for m,i in enumerate(a[:]):\n",
    "#     print(m,'m',i,'i')\n",
    "#     for h,j in enumerate(a[1:]):\n",
    "#         print(h,'h',j,'j')\n",
    "#         if m == h:\n",
    "#             c[m,h] = 0\n",
    "#         else:\n",
    "#             #c[m,h] = attraction(a[0][0],a[0][1],a[1][0],a[1][0])\n",
    "#             1+1\n",
    "print()\n",
    "print(c)\n"
   ]
  },
  {
   "cell_type": "code",
   "execution_count": 214,
   "metadata": {},
   "outputs": [
    {
     "name": "stdout",
     "output_type": "stream",
     "text": [
      "1.5707963267948966\n"
     ]
    }
   ],
   "source": [
    "print(np.arctan2(1,0))"
   ]
  }
 ],
 "metadata": {
  "kernelspec": {
   "display_name": "Python 3",
   "language": "python",
   "name": "python3"
  },
  "language_info": {
   "codemirror_mode": {
    "name": "ipython",
    "version": 3
   },
   "file_extension": ".py",
   "mimetype": "text/x-python",
   "name": "python",
   "nbconvert_exporter": "python",
   "pygments_lexer": "ipython3",
   "version": "3.11.1"
  }
 },
 "nbformat": 4,
 "nbformat_minor": 2
}
