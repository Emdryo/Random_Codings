{
 "cells": [
  {
   "cell_type": "markdown",
   "metadata": {},
   "source": [
    "# Numerisk integration - Euler metoden - Euler integration"
   ]
  },
  {
   "cell_type": "code",
   "execution_count": 1,
   "metadata": {},
   "outputs": [],
   "source": [
    "import numpy as np\n",
    "import matplotlib.pyplot as plt\n",
    "import ipywidgets as widgets"
   ]
  },
  {
   "cell_type": "code",
   "execution_count": 2,
   "metadata": {},
   "outputs": [],
   "source": [
    "# Vi definerer vores analytiske løsning, med samme input parametre som vores euler løsning\n",
    "def analytical_solution(t, k,m,gamma, x0, v0):\n",
    "    beta = -gamma/(2*m)\n",
    "    omega = np.sqrt(k/(m) - beta**2)\n",
    "    A = x0\n",
    "    B = (gamma*x0 + 2*v0*m)/(2 * omega* m)\n",
    "    return B*np.exp(beta*t)*np.sin(omega*t) + A*np.exp(beta*t)*np.cos(omega*t)"
   ]
  },
  {
   "cell_type": "markdown",
   "metadata": {},
   "source": [
    "Vi definerer vores funktion der laver euler integrationen, samt plotter den sammen med den analytiske løsning."
   ]
  },
  {
   "cell_type": "code",
   "execution_count": 7,
   "metadata": {},
   "outputs": [],
   "source": [
    "def sim(k, m, gamma, x0, v0, delta_t, tend):\n",
    "    #Vi sætter vores startværdier\n",
    "    t = 0\n",
    "    x = x0\n",
    "    v = v0\n",
    "    \n",
    "    #Vi opretter lister, som vi kan gemme vores værdier i, således \n",
    "    t_list = [t]\n",
    "    x_list = [x]\n",
    "\n",
    "    while t < tend:\n",
    "        # Vi skriver vores euler ligninger\n",
    "        v += (-k/m * x - gamma/m * v)*delta_t\n",
    "        x += v*delta_t\n",
    "        t += delta_t\n",
    "\n",
    "        t_list.append(t)\n",
    "        x_list.append(x)\n",
    "\n",
    "\n",
    "    TT = np.linspace(0,t_list[-1],1000)\n",
    "    YY = analytical_solution(TT, k, m, gamma,x0, v0)\n",
    "\n",
    "    plt.figure(figsize=(10,5))\n",
    "    plt.plot(TT, YY, label ='Analytisk')\n",
    "    plt.plot(t_list, x_list, label ='Euler integration')\n",
    "    plt.legend(loc = 'upper right')\n",
    "    plt.xlabel('Tid')\n",
    "    plt.ylabel('Position')\n",
    "    plt.xlim(0, tend)\n",
    "\n"
   ]
  },
  {
   "cell_type": "markdown",
   "metadata": {},
   "source": [
    "Vi sætter vores interaktive plot op, vi kan ændre på de forskellige værdier for at så hvornår vores euler løsning og analytiske løsning er enige. Start med at ændre på delta_t slideren."
   ]
  },
  {
   "cell_type": "code",
   "execution_count": 8,
   "metadata": {},
   "outputs": [
    {
     "data": {
      "application/vnd.jupyter.widget-view+json": {
       "model_id": "0b5e79d7e3af450bb998d5d9ea1d39ee",
       "version_major": 2,
       "version_minor": 0
      },
      "text/plain": [
       "interactive(children=(FloatSlider(value=4.0, description='k', max=10.0, min=1.0), FloatSlider(value=2.0, descr…"
      ]
     },
     "metadata": {},
     "output_type": "display_data"
    },
    {
     "data": {
      "text/plain": [
       "<function __main__.sim(k, m, gamma, x0, v0, delta_t, tend)>"
      ]
     },
     "execution_count": 8,
     "metadata": {},
     "output_type": "execute_result"
    }
   ],
   "source": [
    "widgets.interact(sim, k=widgets.FloatSlider(value = 4, description='k', min=1, max=10, step=0.1),\n",
    "                 m=widgets.FloatSlider(value = 2, description='m', min=1, max=10, step=0.1),\n",
    "                    gamma=widgets.FloatSlider(value = 0.3, description='gamma', min=0, max=1, step=0.01),\n",
    "                    x0=widgets.FloatSlider(value = 1, description='x0', min=0.1, max=10, step=0.1),\n",
    "                    v0=widgets.FloatSlider(value = 2, description='v0', min=0.1, max=10, step=0.1),\n",
    "                    delta_t=widgets.FloatSlider(value = 0.01, description='Delta t', min=0.001, max=1, step=0.001),\n",
    "                    tend=widgets.FloatSlider(value = 10, description='Tend', min=1, max=100, step=1))\n"
   ]
  },
  {
   "cell_type": "code",
   "execution_count": null,
   "metadata": {},
   "outputs": [],
   "source": []
  }
 ],
 "metadata": {
  "kernelspec": {
   "display_name": "Python 3",
   "language": "python",
   "name": "python3"
  },
  "language_info": {
   "codemirror_mode": {
    "name": "ipython",
    "version": 3
   },
   "file_extension": ".py",
   "mimetype": "text/x-python",
   "name": "python",
   "nbconvert_exporter": "python",
   "pygments_lexer": "ipython3",
   "version": "3.11.1"
  }
 },
 "nbformat": 4,
 "nbformat_minor": 4
}
