{
 "cells": [
  {
   "cell_type": "code",
   "execution_count": 1,
   "metadata": {},
   "outputs": [],
   "source": [
    "import numpy as np"
   ]
  },
  {
   "cell_type": "code",
   "execution_count": 26,
   "metadata": {},
   "outputs": [
    {
     "name": "stdout",
     "output_type": "stream",
     "text": [
      "01128\n"
     ]
    }
   ],
   "source": [
    "a = str(12810)\n",
    "b = np.sort(list(a))\n",
    "b = ''.join(b)\n",
    "print(b)"
   ]
  },
  {
   "cell_type": "code",
   "execution_count": 44,
   "metadata": {},
   "outputs": [
    {
     "name": "stdout",
     "output_type": "stream",
     "text": [
      "The smallest integer that is the permuted multiple of 6 is  142857\n"
     ]
    }
   ],
   "source": [
    "j = 2\n",
    "n = 1\n",
    "while j < 6:\n",
    "    nstr = str(n)\n",
    "    ntemp = np.sort(list(nstr))\n",
    "    ntemp = ''.join(ntemp)\n",
    "    twicenstr = str(j*n)\n",
    "    ntemp2 = np.sort(list(twicenstr))\n",
    "    ntemp2 = ''.join(ntemp2)\n",
    "    if ntemp == ntemp2:\n",
    "        #print(n)\n",
    "        j += 1\n",
    "    else:\n",
    "        n += 1\n",
    "        j = 2\n",
    "print(\"The smallest integer that is the permuted multiple of 6 is \",n)"
   ]
  }
 ],
 "metadata": {
  "kernelspec": {
   "display_name": "Python 3",
   "language": "python",
   "name": "python3"
  },
  "language_info": {
   "codemirror_mode": {
    "name": "ipython",
    "version": 3
   },
   "file_extension": ".py",
   "mimetype": "text/x-python",
   "name": "python",
   "nbconvert_exporter": "python",
   "pygments_lexer": "ipython3",
   "version": "3.11.1"
  }
 },
 "nbformat": 4,
 "nbformat_minor": 2
}
