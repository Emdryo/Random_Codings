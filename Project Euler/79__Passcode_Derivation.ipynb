{
 "cells": [
  {
   "cell_type": "code",
   "execution_count": null,
   "metadata": {},
   "outputs": [],
   "source": [
    "import pandas as pd\n",
    "import numpy as np\n"
   ]
  },
  {
   "cell_type": "code",
   "execution_count": 49,
   "metadata": {},
   "outputs": [
    {
     "name": "stdout",
     "output_type": "stream",
     "text": [
      "[129 160 162 168 180 289 290 316 318 319 362 368 380 389 620 629 680 689\n",
      " 690 710 716 718 719 720 728 729 731 736 760 762 769 790 890]\n"
     ]
    }
   ],
   "source": [
    "data = pd.read_csv('0079_keylog.txt').values\n",
    "uniquevals = np.unique(data.flatten()) #some values are repeated\n",
    "print(np.sort(uniquevals))\n",
    "#possible vals are: 0, 1, 2, 3 ,6 7, 8, 9. \n",
    "#values that come after 0:\n",
    "#Values that come after 1: 0, 2, 6, 8, 9\n",
    "#Values that come after 2: 0,8,9\n",
    "#Values that come after 3: 1,2,6,8,9\n",
    "#Values that come after 6: 0,2,8,9\n",
    "#Values that come after 7: 0,1,2,3,6,8,9 \n",
    "#Values that come after 8: 0,9\n",
    "#Values that come after 9: 0\n",
    "#The only number that can come first is 7\n",
    "#The only number that can come last is 0, and as such we have that the three last numbers are 890\n",
    "#Which leads to number 2\n",
    "#And number 1 and the snowball starts to roll and we get:\n",
    "#The passcode is: 73162890"
   ]
  }
 ],
 "metadata": {
  "kernelspec": {
   "display_name": "Python 3",
   "language": "python",
   "name": "python3"
  },
  "language_info": {
   "codemirror_mode": {
    "name": "ipython",
    "version": 3
   },
   "file_extension": ".py",
   "mimetype": "text/x-python",
   "name": "python",
   "nbconvert_exporter": "python",
   "pygments_lexer": "ipython3",
   "version": "3.11.1"
  }
 },
 "nbformat": 4,
 "nbformat_minor": 2
}
