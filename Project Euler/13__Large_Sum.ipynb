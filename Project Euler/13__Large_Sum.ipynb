{
 "cells": [
  {
   "cell_type": "code",
   "execution_count": null,
   "metadata": {},
   "outputs": [],
   "source": [
    "import numpy as np"
   ]
  },
  {
   "cell_type": "code",
   "execution_count": null,
   "metadata": {},
   "outputs": [],
   "source": [
    "#Spørgsmål 13\n",
    "number=np.genfromtxt('13.txt',delimiter=None) #Finder tallene\n",
    "number_sum=0 \n",
    "for j in range (len(number)):\n",
    "    number_sum+=number[j]\n",
    "number_string=str(number_sum) #Laver den til en strng\n",
    "print(number_string[:10]) #Printer de 10 første\n",
    "print(number_string)\n"
   ]
  },
  {
   "cell_type": "markdown",
   "metadata": {},
   "source": []
  }
 ],
 "metadata": {
  "kernelspec": {
   "display_name": "Python 3",
   "language": "python",
   "name": "python3"
  },
  "language_info": {
   "name": "python",
   "version": "3.11.1"
  }
 },
 "nbformat": 4,
 "nbformat_minor": 2
}
