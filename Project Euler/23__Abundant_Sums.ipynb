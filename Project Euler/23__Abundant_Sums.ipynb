{
 "cells": [
  {
   "cell_type": "code",
   "execution_count": 1,
   "metadata": {},
   "outputs": [],
   "source": [
    "import numpy as np\n",
    "import matplotlib.pyplot as plt"
   ]
  },
  {
   "cell_type": "code",
   "execution_count": 13,
   "metadata": {},
   "outputs": [
    {
     "name": "stdout",
     "output_type": "stream",
     "text": [
      "28123\n"
     ]
    }
   ],
   "source": [
    "N = 1\n",
    "abundant =  []\n",
    "nums = sum(np.arange(1,28124))\n",
    "while N <= 28123:\n",
    "    proper_divisors = [1]\n",
    "    for i in range(2,N-1):\n",
    "        if N%i == 0:\n",
    "            proper_divisors.append(i)\n",
    "            if sum(proper_divisors) > N:\n",
    "                abundant.append(N)\n",
    "                break\n",
    "    N += 1"
   ]
  },
  {
   "cell_type": "code",
   "execution_count": 15,
   "metadata": {},
   "outputs": [],
   "source": [
    "twosum = []\n",
    "for j in abundant:\n",
    "    for i in abundant:\n",
    "        if j+i > 28123:\n",
    "            pass\n",
    "        else: \n",
    "            twosum.append(j+i)\n",
    "twosum = np.unique(twosum)"
   ]
  },
  {
   "cell_type": "code",
   "execution_count": 63,
   "metadata": {},
   "outputs": [
    {
     "name": "stdout",
     "output_type": "stream",
     "text": [
      "4179871\n"
     ]
    }
   ],
   "source": [
    "print(nums-sum(twosum))\n"
   ]
  }
 ],
 "metadata": {
  "kernelspec": {
   "display_name": "Python 3",
   "language": "python",
   "name": "python3"
  },
  "language_info": {
   "codemirror_mode": {
    "name": "ipython",
    "version": 3
   },
   "file_extension": ".py",
   "mimetype": "text/x-python",
   "name": "python",
   "nbconvert_exporter": "python",
   "pygments_lexer": "ipython3",
   "version": "3.11.1"
  }
 },
 "nbformat": 4,
 "nbformat_minor": 2
}
