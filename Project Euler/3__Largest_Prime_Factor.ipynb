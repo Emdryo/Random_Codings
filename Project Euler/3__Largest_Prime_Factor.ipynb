{
 "cells": [
  {
   "cell_type": "code",
   "execution_count": null,
   "metadata": {},
   "outputs": [],
   "source": [
    "import numpy as np"
   ]
  },
  {
   "cell_type": "code",
   "execution_count": null,
   "metadata": {},
   "outputs": [],
   "source": [
    "# Euler 3\n",
    "def prime_factors(number):\n",
    "    #start with 2 which is the first prime\n",
    "    factor=2\n",
    "\n",
    "\n",
    "    #Keep going until the factor is lager than the number\n",
    "    while factor<=number:\n",
    "                #check if factor is a divisor of a number \n",
    "        if number%factor==0:\n",
    "            #if it is, print it and divide the original number \n",
    "            print(factor)\n",
    "            number = number / factor\n",
    "        else:\n",
    "            #if it is not, increment the factor by one. Because only primes multiplied together will reach the number, every other number \n",
    "            # which would just be two primes multiplied together, is overlooked.-*\n",
    "            factor +=1\n",
    "            \n",
    "    return \"done\"\n",
    "prime_factors(600851475143)\n"
   ]
  }
 ],
 "metadata": {
  "language_info": {
   "name": "python"
  }
 },
 "nbformat": 4,
 "nbformat_minor": 2
}
