{
 "cells": [
  {
   "cell_type": "code",
   "execution_count": 1,
   "metadata": {},
   "outputs": [],
   "source": [
    "import numpy as np\n"
   ]
  },
  {
   "cell_type": "code",
   "execution_count": 23,
   "metadata": {},
   "outputs": [],
   "source": [
    "def N_paths(N, Tmax=1000): # This takes a shit ton of time to run when N > 8, maybe fix with numba? The answer is just (2*N)!/(N!)^2 \n",
    "    unique_paths = set()\n",
    "    t = 0\n",
    "    while t < Tmax:\n",
    "        currentpos = (0, 0)\n",
    "        path = [currentpos]\n",
    "\n",
    "        while currentpos != (N, N):\n",
    "            direction = np.random.choice(['right', 'down'])\n",
    "            if direction == 'right' and currentpos[1] < N:\n",
    "                currentpos = (currentpos[0], currentpos[1] + 1)\n",
    "            elif direction == 'right' and currentpos[1] == N:\n",
    "                currentpos = (currentpos[0]+1, currentpos[1])\n",
    "            elif direction == 'down' and currentpos[0] < N:\n",
    "                currentpos = (currentpos[0] + 1, currentpos[1])\n",
    "            elif direction == 'down' and currentpos[0] == N:\n",
    "                currentpos = (currentpos[0], currentpos[1] + 1)\n",
    "            path.append(currentpos)\n",
    "\n",
    "        path_tuple = tuple(path)  \n",
    "        if path_tuple not in unique_paths:\n",
    "            unique_paths.add(path_tuple)\n",
    "            t = 0  \n",
    "        else:\n",
    "            t += 1 \n",
    "    return len(unique_paths)\n"
   ]
  },
  {
   "cell_type": "code",
   "execution_count": null,
   "metadata": {},
   "outputs": [],
   "source": []
  }
 ],
 "metadata": {
  "kernelspec": {
   "display_name": "Python 3",
   "language": "python",
   "name": "python3"
  },
  "language_info": {
   "codemirror_mode": {
    "name": "ipython",
    "version": 3
   },
   "file_extension": ".py",
   "mimetype": "text/x-python",
   "name": "python",
   "nbconvert_exporter": "python",
   "pygments_lexer": "ipython3",
   "version": "3.11.1"
  }
 },
 "nbformat": 4,
 "nbformat_minor": 2
}
