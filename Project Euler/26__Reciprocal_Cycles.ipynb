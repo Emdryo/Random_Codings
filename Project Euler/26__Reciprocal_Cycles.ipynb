{
 "cells": [
  {
   "cell_type": "code",
   "execution_count": 26,
   "metadata": {},
   "outputs": [],
   "source": [
    "import numpy as np\n",
    "import decimal\n"
   ]
  },
  {
   "cell_type": "code",
   "execution_count": 1,
   "metadata": {},
   "outputs": [
    {
     "name": "stdout",
     "output_type": "stream",
     "text": [
      "1/983 = 0.001017293997965412\n",
      "Longest recurring cycle length: 982\n",
      "Denominator with longest cycle: 983\n"
     ]
    }
   ],
   "source": [
    "import numpy as np\n",
    "\n",
    "dlist = np.arange(1, 1000)\n",
    "rec_length = 0\n",
    "df = 0\n",
    "\n",
    "for d in dlist:\n",
    "    remainders = {}\n",
    "    value = 1\n",
    "    position = 0\n",
    "\n",
    "    while value and value not in remainders:\n",
    "        remainders[value] = position\n",
    "        value = (value * 10) % d\n",
    "        position += 1\n",
    "\n",
    "    cycle_length = position - remainders.get(value, 0)\n",
    "\n",
    "    if cycle_length > rec_length:\n",
    "        rec_length = cycle_length\n",
    "        df = d\n",
    "\n",
    "print(f\"1/{df} = {1/df}\")\n",
    "print(f\"Longest recurring cycle length: {rec_length}\")\n",
    "print(f\"Denominator with longest cycle: {df}\")\n"
   ]
  },
  {
   "cell_type": "code",
   "execution_count": 37,
   "metadata": {},
   "outputs": [
    {
     "name": "stdout",
     "output_type": "stream",
     "text": [
      "0.16666666666666665741480812812369549646973609924316406250000000000000000000000000000000000000000000000000000000000000000000000000000000000000000000000000000000000000000000000000000000000000000000000000\n"
     ]
    }
   ],
   "source": [
    "K = 200\n",
    "num = 1/6\n",
    "res = \"{{:.{}f}}\".format(K).format(num)\n",
    "print(res)"
   ]
  }
 ],
 "metadata": {
  "kernelspec": {
   "display_name": "Python 3",
   "language": "python",
   "name": "python3"
  },
  "language_info": {
   "codemirror_mode": {
    "name": "ipython",
    "version": 3
   },
   "file_extension": ".py",
   "mimetype": "text/x-python",
   "name": "python",
   "nbconvert_exporter": "python",
   "pygments_lexer": "ipython3",
   "version": "3.11.1"
  }
 },
 "nbformat": 4,
 "nbformat_minor": 2
}
