{
 "cells": [
  {
   "cell_type": "code",
   "execution_count": null,
   "metadata": {},
   "outputs": [],
   "source": [
    "import numpy as np"
   ]
  },
  {
   "cell_type": "code",
   "execution_count": null,
   "metadata": {},
   "outputs": [],
   "source": [
    "#spørgsmål 45\n",
    "def nb(n):\n",
    "    triangle=n*(n+1)/2\n",
    "    pentagonal=n*(3*n-1)/2\n",
    "    hexagonal=n*(2*n-1)\n",
    "    return int(triangle),int(pentagonal),int(hexagonal)\n",
    "t=[]\n",
    "p=[]\n",
    "h=[]\n",
    "count=0\n",
    "n=1\n",
    "while count!=2:\n",
    "    triangle,pentagon,hexagon=nb(n)\n",
    "    t.append(triangle)\n",
    "    p.append(pentagon)\n",
    "    h.append(hexagon)\n",
    "    if t[n-1] in p and t[n-1] in h:\n",
    "        print(f\"Triangle number in penta and hexa={t[n-1]}\", f\"n={n}\")\n",
    "        count+=1\n",
    "    n+=1\n",
    "\n",
    "#print(t)\n",
    "#print(p)\n",
    "#print(h)\n"
   ]
  }
 ],
 "metadata": {
  "language_info": {
   "name": "python"
  }
 },
 "nbformat": 4,
 "nbformat_minor": 2
}
