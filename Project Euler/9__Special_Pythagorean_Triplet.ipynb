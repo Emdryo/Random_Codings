{
 "cells": [
  {
   "cell_type": "code",
   "execution_count": null,
   "metadata": {},
   "outputs": [],
   "source": [
    "import numpy as np"
   ]
  },
  {
   "cell_type": "code",
   "execution_count": null,
   "metadata": {},
   "outputs": [],
   "source": [
    "#Spørgsmål 9\n",
    "a=0\n",
    "b=0\n",
    "c=np.sqrt(a**2+b**2) \n",
    "while a+b+c!=1000: #!= betyder \"Ikke lig med\"\n",
    "    b += 1\n",
    "    if b >= 500: #\"500 betyder den ikke må være mere eller lig med 500\"\n",
    "        a += 1\n",
    "        b = a + 1\n",
    "    c = np.sqrt(a**2 + b**2)\n",
    "print(a,b,c)\n",
    "print(a*b*c)\n"
   ]
  }
 ],
 "metadata": {
  "language_info": {
   "name": "python"
  }
 },
 "nbformat": 4,
 "nbformat_minor": 2
}
