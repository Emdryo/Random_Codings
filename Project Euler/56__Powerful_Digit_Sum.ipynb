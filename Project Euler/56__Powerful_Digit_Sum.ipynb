{
 "cells": [
  {
   "cell_type": "code",
   "execution_count": null,
   "metadata": {},
   "outputs": [],
   "source": [
    "import numpy as np"
   ]
  },
  {
   "cell_type": "code",
   "execution_count": null,
   "metadata": {},
   "outputs": [],
   "source": [
    "#spørgsmål 56\n",
    "#a=np.linspace(1,100,100)\n",
    "#b=np.lcm\n",
    "c=0\n",
    "g=[]\n",
    "for a in range(1,101):\n",
    "    for b in range(1,101):\n",
    "        c=a**b\n",
    "        length=(str(c))\n",
    "        f=0\n",
    "        for i in length:\n",
    "            f+=int(i)\n",
    "        g.append(f)\n",
    "print((max(g)))\n"
   ]
  }
 ],
 "metadata": {
  "language_info": {
   "name": "python"
  }
 },
 "nbformat": 4,
 "nbformat_minor": 2
}
