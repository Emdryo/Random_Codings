{
 "cells": [
  {
   "cell_type": "code",
   "execution_count": null,
   "metadata": {},
   "outputs": [],
   "source": [
    "import numpy as np"
   ]
  },
  {
   "cell_type": "code",
   "execution_count": null,
   "metadata": {},
   "outputs": [],
   "source": [
    "#spørgsmål 29\n",
    "listed=[]\n",
    "for a in range(2,101):\n",
    "    for b in range(2,101):\n",
    "        if a**b not in listed:\n",
    "            listed.append(a**b)\n",
    "print(len(np.sort(listed)))\n",
    "print(16%2)"
   ]
  }
 ],
 "metadata": {
  "language_info": {
   "name": "python"
  }
 },
 "nbformat": 4,
 "nbformat_minor": 2
}
