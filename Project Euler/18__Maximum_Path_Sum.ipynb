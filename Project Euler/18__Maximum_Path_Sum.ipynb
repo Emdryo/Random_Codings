{
 "cells": [
  {
   "cell_type": "code",
   "execution_count": 8,
   "metadata": {},
   "outputs": [],
   "source": [
    "import numpy as np\n",
    "import pandas as pd"
   ]
  },
  {
   "cell_type": "code",
   "execution_count": 153,
   "metadata": {},
   "outputs": [
    {
     "name": "stdout",
     "output_type": "stream",
     "text": [
      "[75, 95, 47, 87, 82, 75, 77, 65, 41, 48, 71, 70, 91, 66, 98] 1088\n",
      "[['75']\n",
      " ['95 64']\n",
      " ['17 47 82']\n",
      " ['18 35 87 10']\n",
      " ['20 04 82 47 65']\n",
      " ['19 01 23 75 03 34']\n",
      " ['88 02 77 73 07 63 67']\n",
      " ['99 65 04 28 06 16 70 92']\n",
      " ['41 41 26 56 83 40 80 70 33']\n",
      " ['41 48 72 33 47 32 37 16 94 29']\n",
      " ['53 71 44 65 25 43 91 52 97 51 14']\n",
      " ['70 11 33 28 77 73 17 78 39 68 17 57']\n",
      " ['91 71 52 38 17 14 91 43 58 50 27 29 48']\n",
      " ['63 66 04 68 89 53 67 30 73 16 69 87 40 31']\n",
      " ['04 62 98 27 23 09 70 98 73 93 38 53 60 04 23']]\n"
     ]
    }
   ],
   "source": [
    "data = pd.read_csv('0018_triangle.txt', header = None).values\n",
    "current_index = 0\n",
    "vals_chosen = []\n",
    "doubledepth = False\n",
    "for index,i in enumerate(data):\n",
    "    for j in i:\n",
    "       m = [int(a) for a in j.split()]\n",
    "       if index == 0:\n",
    "          vals_chosen.append(m[current_index]) #start\n",
    "       else:\n",
    "        if current_index == 0:\n",
    "            possible_vals = [m[current_index], m[current_index + 1]]  #Only take the right-side values\n",
    "        elif current_index == len(m) - 1:\n",
    "            possible_vals = [m[current_index - 1], m[current_index]]  #Only take the left-side values\n",
    "        else:\n",
    "            possible_vals = [m[current_index - 1], m[current_index], m[current_index + 1]] #not edge scenario\n",
    "        max_val = max(possible_vals)\n",
    "        current_index = m.index(max_val)\n",
    "        vals_chosen.append(max_val)\n",
    "print(vals_chosen,sum(vals_chosen)) #method works but its not correct as it may choose a suboptimal path. I'm going to try something different\n",
    "print(data) "
   ]
  },
  {
   "cell_type": "code",
   "execution_count": 156,
   "metadata": {},
   "outputs": [
    {
     "name": "stdout",
     "output_type": "stream",
     "text": [
      "Maximum Path Sum: 1074\n",
      "[[1074], [995, 999], [818, 900, 935], [704, 801, 853, 792], [686, 640, 766, 731, 782], [666, 614, 636, 684, 660, 717], [647, 501, 613, 609, 533, 657, 683], [559, 499, 479, 536, 514, 526, 594, 616], [460, 434, 419, 475, 508, 470, 510, 524, 487], [419, 365, 393, 387, 419, 425, 430, 376, 454, 322], [378, 317, 231, 321, 354, 372, 393, 354, 360, 293, 247], [325, 246, 187, 178, 256, 329, 273, 302, 263, 242, 193, 233], [255, 235, 154, 150, 140, 179, 256, 209, 224, 172, 174, 176, 148], [125, 164, 102, 95, 112, 123, 165, 128, 166, 109, 122, 147, 100, 54], [4, 62, 98, 27, 23, 9, 70, 98, 73, 93, 38, 53, 60, 4, 23]]\n"
     ]
    }
   ],
   "source": [
    "# I'm going to start from the bottom and go up, choosing the maximum value at each step. The final value at the top will be the maximum path sum.\n",
    "triangle = [[int(a) for a in row[0].split()] for row in data] #triangle data, other way\n",
    "\n",
    "for i in range(len(triangle) - 2, -1, -1):  # Go from second last row to the top as the first is unchanged\n",
    "    for j in range(len(triangle[i])):  \n",
    "        # Choose the maximum neighbor below and add to the current element\n",
    "        triangle[i][j]+= max(triangle[i + 1][j], triangle[i + 1][j + 1])\n",
    "\n",
    "print(\"Maximum Path Sum:\", triangle[0][0])\n",
    "print(triangle)"
   ]
  }
 ],
 "metadata": {
  "kernelspec": {
   "display_name": "Python 3",
   "language": "python",
   "name": "python3"
  },
  "language_info": {
   "codemirror_mode": {
    "name": "ipython",
    "version": 3
   },
   "file_extension": ".py",
   "mimetype": "text/x-python",
   "name": "python",
   "nbconvert_exporter": "python",
   "pygments_lexer": "ipython3",
   "version": "3.11.1"
  }
 },
 "nbformat": 4,
 "nbformat_minor": 2
}
