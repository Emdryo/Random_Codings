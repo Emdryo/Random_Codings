{
 "cells": [
  {
   "cell_type": "code",
   "execution_count": 1,
   "metadata": {},
   "outputs": [],
   "source": [
    "import numpy as np\n",
    "import matplotlib.pyplot as plt\n",
    "plt.rcParams['figure.figsize'] = [10, 10]"
   ]
  },
  {
   "cell_type": "code",
   "execution_count": 191,
   "metadata": {},
   "outputs": [
    {
     "name": "stdout",
     "output_type": "stream",
     "text": [
      "73167176531330625585928818171611107149744948903936\n",
      "96983520312774504418480031718695263407561859137536\n",
      "85861560789112952938806448629206845352542646304768\n",
      "12540698747158524278454250467984960605046662234112\n",
      "66896648950445239599581222430899970940447462785024\n",
      "62229893423380312806754269471885607180929981218816\n",
      "30358907296290494061332065579429904195318395699200\n",
      "70172427121884003649121727754497915285251379167232\n",
      "65727333001053365488481531830606258265665394704384\n",
      "52584907711670554100072385594186610942899136757760\n",
      "53697817977846176344669838846788085312265723576320\n",
      "83972241375657056338844146994946167581488504111104\n",
      "82166370484403203937597949179559311199078321225728\n",
      "16427171479924443315407856058170267900047379136512\n",
      "17866458359124565725229354904257710342911918342144\n",
      "24219022671055628021219293328672104510918284541952\n",
      "7198403850962454813014277066578577957323020435456\n",
      "84580156166097914450107974067981673870534406832128\n",
      "5886116467109405236326732313033866880038916325376\n",
      "71636269561882666302454238410201141057585426726912\n",
      "[129024000, 142884000, 165888000, 316108800, 139968000, 812851200, 283435200, 889056000, 653184000, 1440270720, 21403533312, 2821754880, 10126903500, 52254720, 348364800, 3919104, 4667544000, 0, 2449440, 537477120]\n"
     ]
    }
   ],
   "source": [
    "datatest = np.genfromtxt('P_Euler_8.txt', delimiter='', skip_header=0)\n",
    "x = datatest[0]\n",
    "largestvals = []\n",
    "for x in datatest:\n",
    "    n = np.char.mod('%d', int(x)) #Makes a very large number into one straight line of integers\n",
    "    res = ([int(i) for i in str(n)]) #Makes the string into a list of integers\n",
    "    print(n)\n",
    "    largesttemp = 0\n",
    "    for i in range(len(res)-12):\n",
    "        tempval = res[i]*res[i+1]*res[i+2]*res[i+3]*res[i+4]*res[i+5]*res[i+6]*res[i+7]*res[i+8]*res[i+9]*res[i+10]*res[i+11]*res[i+12]#*res[i+13]\n",
    "        if tempval > largesttemp:\n",
    "            largesttemp = tempval\n",
    "    largestvals.append(largesttemp)\n",
    "print((largestvals))"
   ]
  },
  {
   "cell_type": "code",
   "execution_count": 195,
   "metadata": {},
   "outputs": [
    {
     "data": {
      "text/plain": [
       "23514624000"
      ]
     },
     "execution_count": 195,
     "metadata": {},
     "output_type": "execute_result"
    }
   ],
   "source": [
    "# Convert the given 1000-digit number into a single string\n",
    "num_str = (\n",
    "    \"73167176531330624919225119674426574742355349194934\"\n",
    "    \"96983520312774506326239578318016984801869478851843\"\n",
    "    \"85861560789112949495459501737958331952853208805511\"\n",
    "    \"12540698747158523863050715693290963295227443043557\"\n",
    "    \"66896648950445244523161731856403098711121722383113\"\n",
    "    \"62229893423380308135336276614282806444486645238749\"\n",
    "    \"30358907296290491560440772390713810515859307960866\"\n",
    "    \"70172427121883998797908792274921901699720888093776\"\n",
    "    \"65727333001053367881220235421809751254540594752243\"\n",
    "    \"52584907711670556013604839586446706324415722155397\"\n",
    "    \"53697817977846174064955149290862569321978468622482\"\n",
    "    \"83972241375657056057490261407972968652414535100474\"\n",
    "    \"82166370484403199890008895243450658541227588666881\"\n",
    "    \"16427171479924442928230863465674813919123162824586\"\n",
    "    \"17866458359124566529476545682848912883142607690042\"\n",
    "    \"24219022671055626321111109370544217506941658960408\"\n",
    "    \"07198403850962455444362981230987879927244284909188\"\n",
    "    \"84580156166097919133875499200524063689912560717606\"\n",
    "    \"05886116467109405077541002256983155200055935729725\"\n",
    "    \"71636269561882670428252483600823257530420752963450\"\n",
    ")\n",
    "\n",
    "# Initialize variables\n",
    "max_product = 0\n",
    "max_digits = \"\"\n",
    "\n",
    "# Iterate through all possible sequences of 13 adjacent digits\n",
    "for i in range(len(num_str) - 12):\n",
    "    digits = num_str[i:i+13]  # Get 13 adjacent digits\n",
    "    product = 1\n",
    "    \n",
    "    # Compute the product of these digits\n",
    "    for digit in digits:\n",
    "        product *= int(digit)\n",
    "    \n",
    "    # Update max_product if a greater product is found\n",
    "    if product > max_product:\n",
    "        max_product = product\n",
    "        max_digits = digits\n",
    "\n",
    "max_product\n"
   ]
  }
 ],
 "metadata": {
  "kernelspec": {
   "display_name": "Python 3",
   "language": "python",
   "name": "python3"
  },
  "language_info": {
   "codemirror_mode": {
    "name": "ipython",
    "version": 3
   },
   "file_extension": ".py",
   "mimetype": "text/x-python",
   "name": "python",
   "nbconvert_exporter": "python",
   "pygments_lexer": "ipython3",
   "version": "3.11.1"
  }
 },
 "nbformat": 4,
 "nbformat_minor": 2
}
