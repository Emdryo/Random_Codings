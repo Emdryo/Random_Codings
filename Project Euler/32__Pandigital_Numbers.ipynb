{
 "cells": [
  {
   "cell_type": "code",
   "execution_count": 1,
   "metadata": {},
   "outputs": [],
   "source": [
    "import numpy as np"
   ]
  },
  {
   "cell_type": "code",
   "execution_count": 6,
   "metadata": {},
   "outputs": [
    {
     "name": "stdout",
     "output_type": "stream",
     "text": [
      "3\n",
      "223\n"
     ]
    }
   ],
   "source": [
    "a = str(22)\n",
    "b = str(3)\n",
    "c = a+b\n",
    "print(len(c))\n",
    "print(c)"
   ]
  },
  {
   "cell_type": "code",
   "execution_count": 170,
   "metadata": {},
   "outputs": [],
   "source": [
    "def strsum(i,j):\n",
    "    return len(str(i)+str(j)+str(j)+str(i))\n",
    "def sortint(i,j):\n",
    "    mult = str(i)+str(j)\n",
    "    product = str(i*j)\n",
    "    sortval = list(product+mult)\n",
    "    sortval.sort()\n",
    "    sortval = [int(x) for x in sortval]\n",
    "    a = ''\n",
    "    for i in sortval:\n",
    "        a += str(i)\n",
    "    return product,a"
   ]
  },
  {
   "cell_type": "code",
   "execution_count": 192,
   "metadata": {},
   "outputs": [
    {
     "name": "stdout",
     "output_type": "stream",
     "text": [
      "7 45228\n",
      "[4396 5346 5796 6952 7254 7632 7852]\n"
     ]
    }
   ],
   "source": [
    "productarray = []\n",
    "def strsum(i,j):\n",
    "    return len(str(i)+str(j)+str(j)+str(i))-1\n",
    "for i in range(1,500):\n",
    "    for j in range(100,40000):\n",
    "        if strsum(i,j) > 9:\n",
    "            break\n",
    "        if strsum(i,j) == 9:\n",
    "            product, sortval = sortint(i,j)\n",
    "            if sortval == '123456789' and int(product) not in productarray:\n",
    "                productarray.append(int(product))\n",
    "print(len(productarray),np.sum(productarray))\n",
    "print(np.sort(productarray))"
   ]
  }
 ],
 "metadata": {
  "kernelspec": {
   "display_name": "Python 3",
   "language": "python",
   "name": "python3"
  },
  "language_info": {
   "codemirror_mode": {
    "name": "ipython",
    "version": 3
   },
   "file_extension": ".py",
   "mimetype": "text/x-python",
   "name": "python",
   "nbconvert_exporter": "python",
   "pygments_lexer": "ipython3",
   "version": "3.11.1"
  }
 },
 "nbformat": 4,
 "nbformat_minor": 2
}
