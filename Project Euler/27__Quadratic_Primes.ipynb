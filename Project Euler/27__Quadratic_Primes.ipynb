{
 "cells": [
  {
   "cell_type": "code",
   "execution_count": 1,
   "metadata": {},
   "outputs": [],
   "source": [
    "import numpy as np"
   ]
  },
  {
   "cell_type": "code",
   "execution_count": 11,
   "metadata": {},
   "outputs": [
    {
     "name": "stdout",
     "output_type": "stream",
     "text": [
      "The maximum amount of primes is 71 for a = -61 and b = 971 In the interval a,b \\in [-1000,1000]\n"
     ]
    }
   ],
   "source": [
    "def sieve_of_eratosthenes(n):\n",
    "    primes = np.arange(2,n+1)\n",
    "    p = 2\n",
    "    while p**2 <= n:\n",
    "        if p in primes:\n",
    "            for i in range(p**2,n+1,p):\n",
    "                if i in primes:\n",
    "                    primes = np.delete(primes,np.where(primes==i))\n",
    "        p += 1\n",
    "    return primes\n",
    "amountprimes = 0\n",
    "maxa = 0\n",
    "maxb = 0\n",
    "primelist = sieve_of_eratosthenes(50000)\n",
    "alist = np.arange(-1000,1000)\n",
    "blist = np.arange(-1000,1000)\n",
    "for a in alist:\n",
    "    for b in blist:\n",
    "        n = 0\n",
    "        while n**2 + a*n + b in primelist:\n",
    "            n += 1\n",
    "        if n > amountprimes:\n",
    "            amountprimes = n\n",
    "            maxa = a\n",
    "            maxb = b\n",
    "print(\"The maximum amount of primes is\",amountprimes,\"for a =\",maxa,\"and b =\",maxb,\"In the interval a,b \\in [-1000,1000]\") "
   ]
  }
 ],
 "metadata": {
  "kernelspec": {
   "display_name": "Python 3",
   "language": "python",
   "name": "python3"
  },
  "language_info": {
   "codemirror_mode": {
    "name": "ipython",
    "version": 3
   },
   "file_extension": ".py",
   "mimetype": "text/x-python",
   "name": "python",
   "nbconvert_exporter": "python",
   "pygments_lexer": "ipython3",
   "version": "3.11.1"
  }
 },
 "nbformat": 4,
 "nbformat_minor": 2
}
