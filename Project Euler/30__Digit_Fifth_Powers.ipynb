{
 "cells": [
  {
   "cell_type": "code",
   "execution_count": 1,
   "metadata": {},
   "outputs": [],
   "source": [
    "import numpy as np"
   ]
  },
  {
   "cell_type": "code",
   "execution_count": 26,
   "metadata": {},
   "outputs": [
    {
     "name": "stdout",
     "output_type": "stream",
     "text": [
      "The number 4150 is a 5 digit power number\n",
      "The number 4151 is a 5 digit power number\n",
      "The number 54748 is a 5 digit power number\n",
      "The number 92727 is a 5 digit power number\n",
      "The number 93084 is a 5 digit power number\n",
      "The number 194979 is a 5 digit power number\n",
      "The sum of all the numbers is 443839\n"
     ]
    }
   ],
   "source": [
    "def digitchecker(number, power=5):\n",
    "    nums = []\n",
    "    for n in number:\n",
    "        digits = [int(d) for d in str(n)]\n",
    "        if n == sum([d**power for d in digits]):\n",
    "            print(f'The number {n} is a {power} digit power number')\n",
    "            nums.append(n)\n",
    "    return nums\n",
    "twodigitnums = np.arange(10,99)\n",
    "threedigitnums = np.arange(100,999)\n",
    "fourdigitnums = np.arange(1000,9999)\n",
    "fivedigitnums = np.arange(10000,99999)\n",
    "sixdigitnums = np.arange(100000,999999)\n",
    "sevendigitnums = np.arange(1000000,9999999)\n",
    "twodigits = digitchecker(twodigitnums)\n",
    "threedigits = digitchecker(threedigitnums)\n",
    "fourdigits = digitchecker(fourdigitnums)\n",
    "fivedigits = digitchecker(fivedigitnums)\n",
    "sixdigits = digitchecker(sixdigitnums)\n",
    "sevendigits = digitchecker(sevendigitnums)\n",
    "sumdigits = sum(twodigits) + sum(threedigits) + sum(fourdigits) + sum(fivedigits) + sum(sixdigits) + sum(sevendigits)\n",
    "print(f'The sum of all the numbers is {sumdigits}')"
   ]
  }
 ],
 "metadata": {
  "kernelspec": {
   "display_name": "Python 3",
   "language": "python",
   "name": "python3"
  },
  "language_info": {
   "codemirror_mode": {
    "name": "ipython",
    "version": 3
   },
   "file_extension": ".py",
   "mimetype": "text/x-python",
   "name": "python",
   "nbconvert_exporter": "python",
   "pygments_lexer": "ipython3",
   "version": "3.11.1"
  }
 },
 "nbformat": 4,
 "nbformat_minor": 2
}
