{
 "cells": [
  {
   "cell_type": "code",
   "execution_count": 1,
   "metadata": {},
   "outputs": [],
   "source": [
    "import numpy as np\n"
   ]
  },
  {
   "cell_type": "code",
   "execution_count": 2,
   "metadata": {},
   "outputs": [
    {
     "name": "stdout",
     "output_type": "stream",
     "text": [
      "233168\n"
     ]
    }
   ],
   "source": [
    "# Spørgsmål 1\n",
    "Fem=0\n",
    "Tre=0\n",
    "Femsum=0\n",
    "Tresum=0\n",
    "Tal=1000\n",
    "TreFem=0\n",
    "TreFemSum=0\n",
    "while Fem<Tal:\n",
    "    Fem+=5\n",
    "    Femsum+=Fem\n",
    "    if Fem>=Tal: #Hvis tallet er størrere end 1000, så fjerner den de tal\n",
    "        Femsum-=Fem\n",
    "while Tre<Tal:\n",
    "    Tre+=3\n",
    "    Tresum+=Tre\n",
    "    if Tre>=Tal:\n",
    "        Tresum-=Tre\n",
    "while TreFem<Tal:\n",
    "    TreFem+=15\n",
    "    TreFemSum+=TreFem\n",
    "    if TreFem>=Tal:\n",
    "        TreFemSum-=TreFem #Fordi at multiple af 3*5 ville blive talt med to gange (en gang for både 5 og 3) så skal vi fjerne den ad en omgang. \n",
    "print(Femsum+Tresum-TreFemSum)"
   ]
  }
 ],
 "metadata": {
  "kernelspec": {
   "display_name": "Python 3",
   "language": "python",
   "name": "python3"
  },
  "language_info": {
   "codemirror_mode": {
    "name": "ipython",
    "version": 3
   },
   "file_extension": ".py",
   "mimetype": "text/x-python",
   "name": "python",
   "nbconvert_exporter": "python",
   "pygments_lexer": "ipython3",
   "version": "3.11.1"
  }
 },
 "nbformat": 4,
 "nbformat_minor": 2
}
