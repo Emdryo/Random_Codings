{
 "cells": [
  {
   "cell_type": "code",
   "execution_count": 2,
   "metadata": {},
   "outputs": [],
   "source": [
    "import numpy as np\n",
    "# "
   ]
  },
  {
   "cell_type": "code",
   "execution_count": null,
   "metadata": {},
   "outputs": [
    {
     "name": "stdout",
     "output_type": "stream",
     "text": [
      "1560090.0 7042750.0 5482660.0\n",
      "7042750.0 1560090.0 5482660.0\n"
     ]
    }
   ],
   "source": [
    "def pentanum(n):\n",
    "    return n*(3*n-1)/2\n",
    "def reversepenta(n):\n",
    "    return (1+np.sqrt(1+24*n))/6\n",
    "pentarange = np.arange(1,10000)\n",
    "pentanums = pentanum(pentarange)\n",
    "for i in pentanums[100:]: \n",
    "    for j in pentanums[100:]: \n",
    "        if reversepenta(i+j).is_integer() and reversepenta(abs(j-i)).is_integer():\n",
    "            print(i,j,abs(j-i))\n",
    "            break"
   ]
  }
 ],
 "metadata": {
  "kernelspec": {
   "display_name": "Python 3",
   "language": "python",
   "name": "python3"
  },
  "language_info": {
   "codemirror_mode": {
    "name": "ipython",
    "version": 3
   },
   "file_extension": ".py",
   "mimetype": "text/x-python",
   "name": "python",
   "nbconvert_exporter": "python",
   "pygments_lexer": "ipython3",
   "version": "3.11.1"
  }
 },
 "nbformat": 4,
 "nbformat_minor": 2
}
