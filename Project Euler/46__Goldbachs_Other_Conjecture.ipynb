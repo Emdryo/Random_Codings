{
 "cells": [
  {
   "cell_type": "code",
   "execution_count": 1,
   "metadata": {},
   "outputs": [],
   "source": [
    "import numpy as np"
   ]
  },
  {
   "cell_type": "code",
   "execution_count": 61,
   "metadata": {},
   "outputs": [
    {
     "name": "stdout",
     "output_type": "stream",
     "text": [
      "The first oddcomposite not to be written in this way is 5777\n"
     ]
    }
   ],
   "source": [
    "def sieve(n):\n",
    "    primes = []\n",
    "    sieve = np.ones(n, dtype=bool)\n",
    "    for i in range(2, n):\n",
    "        if sieve[i]:\n",
    "            primes.append(i)\n",
    "            for j in range(i * i, n, i):\n",
    "                sieve[j] = False\n",
    "    return primes\n",
    "primes = sieve(6200)\n",
    "oddcomposite = [i for i in range(3, max(primes), 2) if i not in primes]\n",
    "for comp in oddcomposite:\n",
    "    nextstep = True\n",
    "    for prime in primes:\n",
    "        if prime > comp:\n",
    "            break\n",
    "        if np.sqrt((comp - prime) / 2) == int(np.sqrt((comp - prime) / 2)):\n",
    "            nextstep = False\n",
    "    if nextstep:\n",
    "        print('The first oddcomposite not to be written in this way is', comp)\n",
    "        break"
   ]
  },
  {
   "cell_type": "code",
   "execution_count": null,
   "metadata": {},
   "outputs": [
    {
     "ename": "TypeError",
     "evalue": "'int' object is not subscriptable",
     "output_type": "error",
     "traceback": [
      "\u001b[1;31m---------------------------------------------------------------------------\u001b[0m",
      "\u001b[1;31mTypeError\u001b[0m                                 Traceback (most recent call last)",
      "Cell \u001b[1;32mIn[55], line 1\u001b[0m\n\u001b[1;32m----> 1\u001b[0m np\u001b[38;5;241m.\u001b[39msqrt(oddcomposite[\u001b[38;5;241m0\u001b[39m]\u001b[38;5;241m-\u001b[39m\u001b[43mprime\u001b[49m\u001b[43m[\u001b[49m\u001b[38;5;241;43m0\u001b[39;49m\u001b[43m]\u001b[49m)\u001b[38;5;241m.\u001b[39mis_integer()\n",
      "\u001b[1;31mTypeError\u001b[0m: 'int' object is not subscriptable"
     ]
    }
   ],
   "source": []
  }
 ],
 "metadata": {
  "kernelspec": {
   "display_name": "Python 3",
   "language": "python",
   "name": "python3"
  },
  "language_info": {
   "codemirror_mode": {
    "name": "ipython",
    "version": 3
   },
   "file_extension": ".py",
   "mimetype": "text/x-python",
   "name": "python",
   "nbconvert_exporter": "python",
   "pygments_lexer": "ipython3",
   "version": "3.11.1"
  }
 },
 "nbformat": 4,
 "nbformat_minor": 2
}
