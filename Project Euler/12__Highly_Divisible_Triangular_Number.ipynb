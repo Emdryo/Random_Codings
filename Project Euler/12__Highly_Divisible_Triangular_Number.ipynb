{
 "cells": [
  {
   "cell_type": "code",
   "execution_count": 117,
   "metadata": {},
   "outputs": [],
   "source": [
    "import numpy as np\n",
    "from sympy import divisors\n"
   ]
  },
  {
   "cell_type": "code",
   "execution_count": 116,
   "metadata": {},
   "outputs": [],
   "source": [
    "n = np.arange(1,1e5)\n",
    "n0 = np.zeros(len(n))\n",
    "for i in range(len(n)):\n",
    "    n0[i] = np.sum(n[:i])\n"
   ]
  },
  {
   "cell_type": "code",
   "execution_count": 118,
   "metadata": {},
   "outputs": [
    {
     "name": "stdout",
     "output_type": "stream",
     "text": [
      "12375 576 76576500.0\n"
     ]
    }
   ],
   "source": [
    "amount_of_divisors = 0\n",
    "n = 0\n",
    "while amount_of_divisors < 500:\n",
    "    divisors2 = list(divisors(int(n0[n]), generator = True))  \n",
    "    if len(divisors2) > 500:\n",
    "        amount_of_divisors = len(divisors2)\n",
    "        print(n, amount_of_divisors, n0[n])\n",
    "        break\n",
    "    n += 1\n"
   ]
  }
 ],
 "metadata": {
  "kernelspec": {
   "display_name": "Python 3",
   "language": "python",
   "name": "python3"
  },
  "language_info": {
   "codemirror_mode": {
    "name": "ipython",
    "version": 3
   },
   "file_extension": ".py",
   "mimetype": "text/x-python",
   "name": "python",
   "nbconvert_exporter": "python",
   "pygments_lexer": "ipython3",
   "version": "3.11.1"
  }
 },
 "nbformat": 4,
 "nbformat_minor": 2
}
