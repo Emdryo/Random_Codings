{
 "cells": [
  {
   "cell_type": "code",
   "execution_count": 1,
   "metadata": {},
   "outputs": [],
   "source": [
    "import numpy as np"
   ]
  },
  {
   "cell_type": "code",
   "execution_count": 5,
   "metadata": {},
   "outputs": [
    {
     "name": "stdout",
     "output_type": "stream",
     "text": [
      "champernows constant =  210\n"
     ]
    }
   ],
   "source": [
    "max =1000*1000\n",
    "c = ''.join(str(i) for i in range(1, max + 1))\n",
    "d1 = int(c[0])\n",
    "d2 = int(c[9])\n",
    "d3 = int(c[99])\n",
    "d4 = int(c[999])\n",
    "d5 = int(c[9999])\n",
    "d6 = int(c[99999])\n",
    "print('champernows constant = ',d1*d2*d3*d4*d5*d6)\n"
   ]
  }
 ],
 "metadata": {
  "kernelspec": {
   "display_name": "Python 3",
   "language": "python",
   "name": "python3"
  },
  "language_info": {
   "codemirror_mode": {
    "name": "ipython",
    "version": 3
   },
   "file_extension": ".py",
   "mimetype": "text/x-python",
   "name": "python",
   "nbconvert_exporter": "python",
   "pygments_lexer": "ipython3",
   "version": "3.11.1"
  }
 },
 "nbformat": 4,
 "nbformat_minor": 2
}
