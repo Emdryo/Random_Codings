{
 "cells": [
  {
   "cell_type": "code",
   "execution_count": 12,
   "metadata": {},
   "outputs": [],
   "source": [
    "import numpy as np"
   ]
  },
  {
   "cell_type": "code",
   "execution_count": 53,
   "metadata": {},
   "outputs": [
    {
     "name": "stdout",
     "output_type": "stream",
     "text": [
      "The amount of lychrel numbers below 10000 is 249\n"
     ]
    }
   ],
   "source": [
    "def reversenum(n):\n",
    "    revnum = str(n)[::-1]\n",
    "    revnum = int(revnum.strip())\n",
    "    return revnum\n",
    "n = 10\n",
    "lychrel = 0\n",
    "rev_n = reversenum(n)\n",
    "while n < 10000:\n",
    "    iterations = 0\n",
    "    rev_n = reversenum(n)\n",
    "    ntemp = n\n",
    "    while iterations < 50:\n",
    "        ntemp = ntemp + rev_n\n",
    "        rev_n = reversenum(ntemp)\n",
    "        if str(ntemp) == str(rev_n):\n",
    "            break\n",
    "        iterations += 1\n",
    "    if iterations == 50:\n",
    "        lychrel += 1\n",
    "    n += 1\n",
    "print(\"The amount of lychrel numbers below 10000 is\",lychrel)"
   ]
  }
 ],
 "metadata": {
  "kernelspec": {
   "display_name": "Python 3",
   "language": "python",
   "name": "python3"
  },
  "language_info": {
   "codemirror_mode": {
    "name": "ipython",
    "version": 3
   },
   "file_extension": ".py",
   "mimetype": "text/x-python",
   "name": "python",
   "nbconvert_exporter": "python",
   "pygments_lexer": "ipython3",
   "version": "3.11.1"
  }
 },
 "nbformat": 4,
 "nbformat_minor": 2
}
